{
  "cells": [
    {
      "cell_type": "markdown",
      "metadata": {
        "id": "5eXKAV7Dfdpz"
      },
      "source": [
        "# Clustering substractivo"
      ]
    },
    {
      "cell_type": "markdown",
      "metadata": {},
      "source": [
        "Crear un modelo de Sugeno del comportamiento de un diodo, para lo cual se ha medido la tensión en sus bornes y la\n",
        "corriente que lo atraviesa. Los datos obtenidos se encuentran en el archivo diodo.txt. El modelo logrado deberá tener no\n",
        "más de dos reglas."
      ]
    },
    {
      "attachments": {},
      "cell_type": "markdown",
      "metadata": {},
      "source": [
        "### Setup"
      ]
    },
    {
      "cell_type": "code",
      "execution_count": null,
      "metadata": {},
      "outputs": [],
      "source": [
        "import numpy as np\n",
        "import matplotlib.pyplot as plt\n",
        "from sklearn.preprocessing import MinMaxScaler\n",
        "from scipy.spatial import distance_matrix"
      ]
    },
    {
      "cell_type": "code",
      "execution_count": null,
      "metadata": {
        "id": "ovZUl83lPmvt"
      },
      "outputs": [],
      "source": [
        "\"\"\"Subtractive Clustering Algorithm\n",
        "\"\"\"\n",
        "__author__ = 'Daniel Albornoz'\n",
        "\n",
        "\n",
        "import numpy as np\n",
        "import matplotlib.pyplot as plt\n",
        "from sklearn.preprocessing import MinMaxScaler\n",
        "from scipy.spatial import distance_matrix\n",
        "\n",
        "def subclust2(data, Ra, Rb=0, AcceptRatio=0.3, RejectRatio=0.1):\n",
        "    if Rb==0:\n",
        "        Rb = Ra*1.15\n",
        "\n",
        "    scaler = MinMaxScaler()\n",
        "    scaler.fit(data)\n",
        "    ndata = scaler.transform(data)\n",
        "\n",
        "    # 14/05/2020 cambio list comprehensions por distance matrix\n",
        "    #P = np.array([np.sum([np.exp(-(np.linalg.norm(u-v)**2)/(Ra/2)**2) for v in ndata]) for u in ndata])\n",
        "    #print(P)\n",
        "    P = distance_matrix(ndata,ndata)\n",
        "    alpha=(Ra/2)**2\n",
        "    P = np.sum(np.exp(-P**2/alpha),axis=0)\n",
        "\n",
        "    centers = []\n",
        "    i=np.argmax(P)\n",
        "    C = ndata[i]\n",
        "    p=P[i]\n",
        "    centers = [C]\n",
        "\n",
        "    continuar=True\n",
        "    restarP = True\n",
        "    while continuar:\n",
        "        pAnt = p\n",
        "        if restarP:\n",
        "            P=P-p*np.array([np.exp(-np.linalg.norm(v-C)**2/(Rb/2)**2) for v in ndata])\n",
        "        restarP = True\n",
        "        i=np.argmax(P)\n",
        "        C = ndata[i]\n",
        "        p=P[i]\n",
        "        if p>AcceptRatio*pAnt:\n",
        "            centers = np.vstack((centers,C))\n",
        "        elif p<RejectRatio*pAnt:\n",
        "            continuar=False\n",
        "        else:\n",
        "            dr = np.min([np.linalg.norm(v-C) for v in centers])\n",
        "            if dr/Ra+p/pAnt>=1:\n",
        "                centers = np.vstack((centers,C))\n",
        "            else:\n",
        "                P[i]=0\n",
        "                restarP = False\n",
        "        if not any(v>0 for v in P):\n",
        "            continuar = False\n",
        "    distancias = [[np.linalg.norm(p-c) for p in ndata] for c in centers]\n",
        "    labels = np.argmin(distancias, axis=0)\n",
        "    centers = scaler.inverse_transform(centers)\n",
        "    return labels, centers"
      ]
    },
    {
      "attachments": {},
      "cell_type": "markdown",
      "metadata": {},
      "source": [
        "### Data loading"
      ]
    },
    {
      "cell_type": "code",
      "execution_count": 27,
      "metadata": {},
      "outputs": [
        {
          "name": "stdout",
          "output_type": "stream",
          "text": [
            "xmin: 0.46 - xmax: 0.665 - ymin: 0.0000500000 - ymax: 0.0060606000\n"
          ]
        },
        {
          "data": {
            "image/png": "[encoded data removed]",
            "text/plain": [
              "<Figure size 640x480 with 1 Axes>"
            ]
          },
          "metadata": {},
          "output_type": "display_data"
        }
      ],
      "source": [
        "data = np.loadtxt(\"diodo.txt\")\n",
        "\n",
        "x_min = np.min(data[:,0])\n",
        "x_max = np.max(data[:,0])\n",
        "y_min = np.min(data[:,1])\n",
        "y_max = np.max(data[:,1])\n",
        "print(f'xmin: {x_min} - xmax: {x_max} - ymin: {y_min:.10f} - ymax: {y_max:.10f}')\n",
        "\n",
        "plt.scatter(data[:,0], data[:,1],s=7)\n",
        "plt.show()\n"
      ]
    },
    {
      "attachments": {},
      "cell_type": "markdown",
      "metadata": {},
      "source": [
        "### Data clustering"
      ]
    },
    {
      "cell_type": "code",
      "execution_count": null,
      "metadata": {},
      "outputs": [],
      "source": [
        "from sklearn.cluster import KMeans, SpectralClustering\n",
        "cant_clusters = 2\n",
        "spectral_clustering = SpectralClustering(3, affinity ='rbf', n_init=100, assign_labels='discretize')\n",
        "spectral_clustering.fit(data)\n",
        "plt.scatter(data[:, 0], data[:, 1], c=spectral_clustering.labels_, cmap='viridis', s = 7)\n",
        "plt.title('Spectral clustering')\n",
        "plt.show()\n",
        "\n",
        "cant_clusters = 2\n",
        "kmeans = KMeans(n_clusters = cant_clusters, init = 'k-means++', max_iter = 300, n_init = 10, random_state = 0)\n",
        "kmeans.fit(data)\n",
        "plt.scatter(data[:, 0], data[:, 1], c=kmeans.labels_, cmap='viridis', s = 7)\n",
        "plt.scatter(kmeans.cluster_centers_[:, 0], kmeans.cluster_centers_[:, 1], c='red', marker='*', s=50)\n",
        "plt.title(f'Kmeans, centers= {kmeans.cluster_centers_.shape} ')\n",
        "plt.show()\n"
      ]
    },
    {
      "cell_type": "code",
      "execution_count": null,
      "metadata": {},
      "outputs": [],
      "source": [
        "labels, centers = subclust2(data, Ra = 0.6, Rb=0.75, AcceptRatio=0.3, RejectRatio=0.1) #Ra, Rb=0, AcceptRatio=0.3, RejectRatio=0.1):\n",
        "plt.scatter(data[:, 0], data[:, 1], c=labels, cmap='viridis', s = 7)\n",
        "plt.scatter(centers[:, 0], centers[:, 1], c='red', marker='*', s=50)\n",
        "plt.title('Clustering Substractivo')\n",
        "plt.show()\n",
        "labels, centers = subclust2(data, Ra = 0.8, Rb=1, AcceptRatio=0.3, RejectRatio=0.1) #Ra, Rb=0, AcceptRatio=0.3, RejectRatio=0.1):\n",
        "plt.scatter(data[:, 0], data[:, 1], c=labels, cmap='viridis', s = 7)\n",
        "plt.scatter(centers[:, 0], centers[:, 1], c='red', marker='*', s=50)\n",
        "plt.title('Clustering Substractivo')\n",
        "plt.show()\n",
        "labels, centers = subclust2(data, Ra = 0.5, Rb=.8, AcceptRatio=0.2, RejectRatio=0.1) #Ra, Rb=0, AcceptRatio=0.3, RejectRatio=0.1):\n",
        "plt.scatter(data[:, 0], data[:, 1], c=labels, cmap='viridis', s = 7)\n",
        "plt.scatter(centers[:, 0], centers[:, 1], c='red', marker='*', s=50)\n",
        "plt.title('Clustering Substractivo')\n",
        "plt.show()"
      ]
    },
    {
      "attachments": {},
      "cell_type": "markdown",
      "metadata": {},
      "source": [
        "### Data segmentation"
      ]
    },
    {
      "cell_type": "code",
      "execution_count": null,
      "metadata": {},
      "outputs": [],
      "source": [
        "\n",
        "segmented_data = []\n",
        "n_clusters = len(kmeans.cluster_centers_)\n",
        "for center in range(n_clusters):\n",
        "    segmented_data.append(data[kmeans.labels_ == center])\n",
        "    plt.scatter(segmented_data[center][:, 0], segmented_data[center][:, 1], cmap='viridis', s = 7)\n",
        "    plt.title(f'Data in cluster {center} ')\n",
        "    plt.xlim([.45,.70])\n",
        "    plt.ylim([0,.006])\n",
        "    plt.show()"
      ]
    },
    {
      "cell_type": "code",
      "execution_count": null,
      "metadata": {
        "colab": {
          "base_uri": "https://localhost:8080/",
          "height": 448
        },
        "id": "-Nfv0cs6QbrD",
        "outputId": "dbfcf35f-53be-436b-9db4-83f2e1e9dc42"
      },
      "outputs": [],
      "source": [
        "c1 = np.random.rand(150,2)+[1,1]\n",
        "c2 = np.random.rand(100,2)+[10,1.5]\n",
        "c3 = np.random.rand(50,2)+[4.9,5.8]\n",
        "m = np.append(c1,c2, axis=0)\n",
        "m = np.append(m,c3, axis=0)\n",
        "\n",
        "r,c = subclust2(m,1)\n",
        "\n",
        "plt.figure()\n",
        "plt.scatter(m[:,0],m[:,1], c=r)\n",
        "plt.scatter(c[:,0],c[:,1], marker='X')"
      ]
    },
    {
      "attachments": {},
      "cell_type": "markdown",
      "metadata": {},
      "source": [
        "### Linear regression"
      ]
    },
    {
      "cell_type": "code",
      "execution_count": 33,
      "metadata": {},
      "outputs": [
        {
          "name": "stdout",
          "output_type": "stream",
          "text": [
            "0.95261176482318\n"
          ]
        },
        {
          "data": {
            "image/png": "[encoded data removed]",
            "text/plain": [
              "<Figure size 640x480 with 1 Axes>"
            ]
          },
          "metadata": {},
          "output_type": "display_data"
        }
      ],
      "source": [
        "from sklearn.linear_model import LinearRegression\n",
        "x = np.reshape(segmented_data[0][:,0],(-1 ,1))\n",
        "y = np.reshape(segmented_data[0][:,1],(-1 ,1))\n",
        "lin_reg = LinearRegression().fit(x,y)\n",
        "\n",
        "print(lin_reg.score(x,y)) #cuanto ams cercano a 1 mejor\n",
        "\n",
        "data_test_x = np.linspace(x_min,x_max,200) #test data\n",
        "data_test_x = np.reshape(data_test_x,(-1,1))\n",
        "\n",
        "data_test_y = lin_reg.predict(data_test_x)\n",
        "\n",
        "plt.scatter(data_test_x, data_test_y,c='blue',s=7)\n",
        "plt.scatter(x, y,c='black',s=20)\n",
        "plt.xlim([.45,.70])\n",
        "plt.ylim([0,.006])\n",
        "plt.show()\n",
        "\n"
      ]
    },
    {
      "cell_type": "markdown",
      "metadata": {
        "id": "ZqkCWsOmfoMF"
      },
      "source": [
        "# GEN Fis\n",
        "## Generación de FIS a partir de agrupamiento de los datos de entrenamiento"
      ]
    },
    {
      "cell_type": "code",
      "execution_count": null,
      "metadata": {
        "id": "eIwgOtK8Nc1Z"
      },
      "outputs": [],
      "source": [
        "# -*- coding: utf-8 -*-\n",
        "\"\"\"\n",
        "Created on Wed May  6 17:56:16 2020\n",
        "\n",
        "@author: Daniel Albornoz\n",
        "\n",
        "Implementación similar a genfis2 de Matlab.\n",
        "Sugeno type FIS. Generado a partir de clustering substractivo.\n",
        "\n",
        "\"\"\"\n",
        "__author__ = 'Daniel Albornoz'\n",
        "\n",
        "import numpy as np\n",
        "import matplotlib.pyplot as plt\n",
        "\n",
        "from sklearn.preprocessing import MinMaxScaler\n",
        "import time\n",
        "\n",
        "def gaussmf(data, mean, sigma):\n",
        "    return np.exp(-((data - mean)**2.) / (2 * sigma**2.))\n",
        "\n",
        "class fisRule:\n",
        "    def __init__(self, centroid, sigma):\n",
        "        self.centroid = centroid\n",
        "        self.sigma = sigma\n",
        "\n",
        "class fisInput:\n",
        "    def __init__(self, min,max, centroids):\n",
        "        self.minValue = min\n",
        "        self.maxValue = max\n",
        "        self.centroids = centroids\n",
        "\n",
        "\n",
        "    def view(self):\n",
        "        x = np.linspace(self.minValue,self.maxValue,20)\n",
        "        plt.figure()\n",
        "        for m in self.centroids:\n",
        "            s = (self.minValue-self.maxValue)/8**0.5\n",
        "            y = gaussmf(x,m,s)\n",
        "            plt.plot(x,y)\n",
        "\n",
        "class fis:\n",
        "    def __init__(self):\n",
        "        self.rules=[]\n",
        "        self.memberfunc = []\n",
        "        self.inputs = []\n",
        "\n",
        "\n",
        "\n",
        "    def genfis(self, data, radii):\n",
        "\n",
        "        start_time = time.time()\n",
        "        labels, cluster_center = subclust2(data, radii)\n",
        "\n",
        "        print(\"--- %s seconds ---\" % (time.time() - start_time))\n",
        "        n_clusters = len(cluster_center)\n",
        "\n",
        "        cluster_center = cluster_center[:,:-1]\n",
        "        P = data[:,:-1]\n",
        "        #T = data[:,-1]\n",
        "        maxValue = np.max(P, axis=0)\n",
        "        minValue = np.min(P, axis=0)\n",
        "\n",
        "        self.inputs = [fisInput(maxValue[i], minValue[i],cluster_center[:,i]) for i in range(len(maxValue))]\n",
        "        self.rules = cluster_center\n",
        "        self.entrenar(data)\n",
        "\n",
        "    def entrenar(self, data):\n",
        "        P = data[:,:-1]\n",
        "        T = data[:,-1]\n",
        "        #___________________________________________\n",
        "        # MINIMOS CUADRADOS (lineal)\n",
        "        sigma = np.array([(i.maxValue-i.minValue)/np.sqrt(8) for i in self.inputs])\n",
        "        f = [np.prod(gaussmf(P,cluster,sigma),axis=1) for cluster in self.rules]\n",
        "\n",
        "        nivel_acti = np.array(f).T\n",
        "        #print(\"nivel acti\")\n",
        "        #print(nivel_acti)\n",
        "        sumMu = np.vstack(np.sum(nivel_acti,axis=1))\n",
        "        #print(\"sumMu\")\n",
        "        #print(sumMu)\n",
        "        P = np.c_[P, np.ones(len(P))]\n",
        "        n_vars = P.shape[1]\n",
        "\n",
        "        orden = np.tile(np.arange(0,n_vars), len(self.rules))\n",
        "        acti = np.tile(nivel_acti,[1,n_vars])\n",
        "        inp = P[:, orden]\n",
        "\n",
        "\n",
        "        A = acti*inp/sumMu\n",
        "\n",
        "        # A = np.zeros((N, 2*n_clusters))\n",
        "        # for jdx in range(n_clusters):\n",
        "        #     for kdx in range(nVar):\n",
        "        #         A[:, jdx+kdx] = nivel_acti[:,jdx]*P[:,kdx]/sumMu\n",
        "        #         A[:, jdx+kdx+1] = nivel_acti[:,jdx]/sumMu\n",
        "\n",
        "        b = T\n",
        "\n",
        "        solutions, residuals, rank, s = np.linalg.lstsq(A,b,rcond=None)\n",
        "        self.solutions = solutions #.reshape(n_clusters,n_vars)\n",
        "        print(solutions)\n",
        "        return 0\n",
        "\n",
        "    def evalfis(self, data):\n",
        "        sigma = np.array([(input.maxValue-input.minValue) for input in self.inputs])/np.sqrt(8)\n",
        "        f = [np.prod(gaussmf(data,cluster,sigma),axis=1) for cluster in self.rules]\n",
        "        nivel_acti = np.array(f).T\n",
        "        sumMu = np.vstack(np.sum(nivel_acti,axis=1))\n",
        "\n",
        "        P = np.c_[data, np.ones(len(data))]\n",
        "\n",
        "        n_vars = P.shape[1]\n",
        "        n_clusters = len(self.rules)\n",
        "\n",
        "        orden = np.tile(np.arange(0,n_vars), n_clusters)\n",
        "        acti = np.tile(nivel_acti,[1,n_vars])\n",
        "        inp = P[:, orden]\n",
        "        coef = self.solutions\n",
        "\n",
        "        return np.sum(acti*inp*coef/sumMu,axis=1)\n",
        "\n",
        "\n",
        "    def viewInputs(self):\n",
        "        for input in self.inputs:\n",
        "            input.view()\n",
        "\n",
        "\n",
        "\n",
        "\n"
      ]
    },
    {
      "cell_type": "markdown",
      "metadata": {
        "id": "g0ojMblzgjcI"
      },
      "source": [
        "# Test genfis 1 entrada"
      ]
    },
    {
      "cell_type": "code",
      "execution_count": null,
      "metadata": {
        "colab": {
          "base_uri": "https://localhost:8080/",
          "height": 1000
        },
        "id": "khKb0pVuPb_b",
        "outputId": "87d0f6c0-8588-4375-ea03-188cadc0f538"
      },
      "outputs": [],
      "source": [
        "#test genfis 1D\n",
        "def my_exponential(A, B, C, x):\n",
        "    return A*np.exp(-B*x)+C\n",
        "\n",
        "data_x = np.arange(-10,10,0.1)\n",
        "data_y = -0.5*data_x**3-0.6*data_x**2+10*data_x+1 #my_exponential(9, 0.5,1, data_x)\n",
        "\n",
        "plt.plot(data_x, data_y)\n",
        "# plt.ylim(-20,20)\n",
        "plt.xlim(-7,7)\n",
        "\n",
        "data = np.vstack((data_x, data_y)).T\n",
        "\n",
        "fis2 = fis()\n",
        "fis2.genfis(data, 1.1)\n",
        "fis2.viewInputs()\n",
        "r = fis2.evalfis(np.vstack(data_x))\n",
        "\n",
        "plt.figure()\n",
        "plt.plot(data_x,data_y)\n",
        "plt.plot(data_x,r,linestyle='--')\n",
        "\n",
        "fis2.solutions\n",
        "\n",
        "# r1 = data_x*-2.29539539+ -41.21850973\n",
        "# r2 = data_x*-15.47376916 -79.82911266\n",
        "# r3 = data_x*-15.47376916 -79.82911266\n",
        "# plt.plot(data_x,r1)\n",
        "# plt.plot(data_x,r2)\n",
        "# plt.plot(data_x,r3)"
      ]
    },
    {
      "cell_type": "markdown",
      "metadata": {
        "id": "rdV0sqooguVE"
      },
      "source": [
        "# Test genfis 2 entradas"
      ]
    },
    {
      "cell_type": "code",
      "execution_count": null,
      "metadata": {
        "colab": {
          "base_uri": "https://localhost:8080/",
          "height": 1000
        },
        "id": "0bMX3whlP-9e",
        "outputId": "1570e6b3-d44f-4d4f-86ad-e1e298462901"
      },
      "outputs": [],
      "source": [
        "from matplotlib import cm\n",
        "\n",
        "x=np.linspace(-10,10,50)\n",
        "X,Y = np.meshgrid(x,x)\n",
        "Z = X**2+Y**2\n",
        "\n",
        "data = np.vstack((X.ravel(), Y.ravel(), Z.ravel())).T\n",
        "\n",
        "fis3 = fis()\n",
        "fis3.genfis(data,1.2)\n",
        "fis3.viewInputs()\n",
        "\n",
        "r = fis3.evalfis(np.vstack((X.ravel(), Y.ravel())).T)\n",
        "r = np.reshape(r, X.shape)\n",
        "\n",
        "\n",
        "fig = plt.figure()\n",
        "ax = fig.add_subplot(projection = '3d') #fig.gca(projection='3d')\n",
        "surf = ax.plot_surface(X,Y,Z, cmap=cm.Blues,\n",
        "                        linewidth=0, antialiased=False, alpha=0.3)\n",
        "\n",
        "surf = ax.plot_surface(X,Y, r, cmap=cm.Reds,\n",
        "                        linewidth=0, antialiased=False, alpha=0.8)\n"
      ]
    },
    {
      "cell_type": "code",
      "execution_count": null,
      "metadata": {
        "colab": {
          "base_uri": "https://localhost:8080/"
        },
        "id": "AchhPvHPZZ4Z",
        "outputId": "0490374f-05e4-4976-c29a-98bd99cc8d79"
      },
      "outputs": [],
      "source": [
        "fis2.rules"
      ]
    },
    {
      "cell_type": "code",
      "execution_count": null,
      "metadata": {
        "colab": {
          "base_uri": "https://localhost:8080/"
        },
        "id": "vDLaV4tHvtM2",
        "outputId": "08965472-6c5f-449d-fba0-25847647e7f8"
      },
      "outputs": [],
      "source": [
        "fis3.rules"
      ]
    }
  ],
  "metadata": {
    "colab": {
      "provenance": []
    },
    "kernelspec": {
      "display_name": "Python 3",
      "name": "python3"
    },
    "language_info": {
      "codemirror_mode": {
        "name": "ipython",
        "version": 3
      },
      "file_extension": ".py",
      "mimetype": "text/x-python",
      "name": "python",
      "nbconvert_exporter": "python",
      "pygments_lexer": "ipython3",
      "version": "3.8.10"
    }
  },
  "nbformat": 4,
  "nbformat_minor": 0
}
